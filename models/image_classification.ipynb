{
  "nbformat": 4,
  "nbformat_minor": 0,
  "metadata": {
    "colab": {
      "name": "Image Classification.ipynb",
      "provenance": []
    },
    "kernelspec": {
      "name": "python3",
      "display_name": "Python 3"
    }
  },
  "cells": [
    {
      "cell_type": "code",
      "metadata": {
        "id": "0yvcM-BkjoRm",
        "colab_type": "code",
        "colab": {}
      },
      "source": [
        "import torch\n",
        "import torchvision"
      ],
      "execution_count": 0,
      "outputs": []
    },
    {
      "cell_type": "code",
      "metadata": {
        "id": "L-rUlb7FlNb-",
        "colab_type": "code",
        "colab": {
          "base_uri": "https://localhost:8080/",
          "height": 51
        },
        "outputId": "8511f1f5-b331-4faf-9ec1-7094e76d0c50"
      },
      "source": [
        "print(torch.__version__)\n",
        "print(torchvision.__version__)"
      ],
      "execution_count": 2,
      "outputs": [
        {
          "output_type": "stream",
          "text": [
            "1.4.0\n",
            "0.5.0\n"
          ],
          "name": "stdout"
        }
      ]
    },
    {
      "cell_type": "code",
      "metadata": {
        "id": "l2BAv0oujwdr",
        "colab_type": "code",
        "colab": {}
      },
      "source": [
        "\"\"\"AlexNet\"\"\"\n",
        "# load alexnet model\n",
        "alexnet = torchvision.models.alexnet(pretrained=True)\n",
        "alexnet.eval()\n",
        "# example tensor as input\n",
        "alexnet_example = torch.rand(1, 3, 224, 224)\n",
        "# create torchscript serialized pytorch pretrained model\n",
        "alexnet_traced_script_module = torch.jit.trace(alexnet, alexnet_example)\n",
        "alexnet_traced_script_module.save(\"alexnet.pt\")"
      ],
      "execution_count": 0,
      "outputs": []
    },
    {
      "cell_type": "code",
      "metadata": {
        "id": "WE2UoFFBj-uZ",
        "colab_type": "code",
        "colab": {}
      },
      "source": [
        "\"\"\"ResNet-18\"\"\"\n",
        "# load resnet model\n",
        "resnet18 = torchvision.models.resnet18(pretrained=True)\n",
        "resnet18.eval()\n",
        "# example tensor as input\n",
        "resnet18_example = torch.rand(1, 3, 224, 224)\n",
        "# create torchscript serialized pytorch pretrained model\n",
        "resnet18_traced_script_module = torch.jit.trace(resnet18, resnet18_example)\n",
        "resnet18_traced_script_module.save(\"resnet_18.pt\")"
      ],
      "execution_count": 0,
      "outputs": []
    },
    {
      "cell_type": "code",
      "metadata": {
        "id": "CfYRBq0dlHx5",
        "colab_type": "code",
        "colab": {}
      },
      "source": [
        "\"\"\"GoogleNet\"\"\"\n",
        "# load googlenet model\n",
        "googlenet = torchvision.models.googlenet(pretrained=True)\n",
        "googlenet.eval()\n",
        "# example tensor as input\n",
        "googlenet_example = torch.rand(1, 3, 224, 224)\n",
        "# create torchscript serialized pytorch pretrained model\n",
        "googlenet_traced_script_module = torch.jit.trace(googlenet, googlenet_example)\n",
        "googlenet_traced_script_module.save(\"googlenet.pt\")"
      ],
      "execution_count": 0,
      "outputs": []
    }
  ]
}